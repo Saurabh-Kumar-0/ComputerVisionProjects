{
 "cells": [
  {
   "cell_type": "code",
   "execution_count": 5,
   "metadata": {},
   "outputs": [],
   "source": [
    "import cv2\n",
    "import os\n",
    "import time\n",
    "import numpy as np\n",
    "import math\n",
    "import HandDetectionModule as htm"
   ]
  },
  {
   "cell_type": "code",
   "execution_count": 6,
   "metadata": {},
   "outputs": [],
   "source": [
    "wCam, hCam = 640, 480\n",
    "cap = cv2.VideoCapture(0)\n",
    "cap.set(3, wCam)\n",
    "cap.set(4, hCam)\n",
    "pTime = 0"
   ]
  },
  {
   "cell_type": "code",
   "execution_count": 7,
   "metadata": {},
   "outputs": [],
   "source": [
    "detector = htm.handDetector(maxHands=1, detectionCon=0.7)"
   ]
  },
  {
   "cell_type": "code",
   "execution_count": null,
   "metadata": {},
   "outputs": [
    {
     "ename": "",
     "evalue": "",
     "output_type": "error",
     "traceback": [
      "\u001b[1;31mThe Kernel crashed while executing code in the current cell or a previous cell. \n",
      "\u001b[1;31mPlease review the code in the cell(s) to identify a possible cause of the failure. \n",
      "\u001b[1;31mClick <a href='https://aka.ms/vscodeJupyterKernelCrash'>here</a> for more info. \n",
      "\u001b[1;31mView Jupyter <a href='command:jupyter.viewOutput'>log</a> for further details."
     ]
    }
   ],
   "source": [
    "\n",
    "circle_detected = False  # Flag to avoid triggering repeatedly\n",
    "\n",
    "while cv2.waitKey(1) != 27:  # Press 'Esc' to exit\n",
    "    success, img = cap.read()\n",
    "    img = detector.findHands(img)\n",
    "    lmList = detector.findPosition(img, draw=False)\n",
    "    \n",
    "    if len(lmList) != 0:\n",
    "        # Get positions of key landmarks (index and thumb tips)\n",
    "        x_thumb, y_thumb = lmList[4][1], lmList[4][2]\n",
    "        x_index, y_index = lmList[8][1], lmList[8][2]\n",
    "        x_middle, y_middle = lmList[12][1], lmList[12][2]\n",
    "\n",
    "        # Calculate distances\n",
    "        distance_thumb_index = math.hypot(x_index - x_thumb, y_index - y_thumb)\n",
    "        distance_thumb_middle = math.hypot(x_middle - x_thumb, y_middle - y_thumb)\n",
    "        distance_index_middle = math.hypot(x_index - x_middle, y_index - y_middle)\n",
    "\n",
    "        # Check for circle gesture: distances between fingers should form a circular shape\n",
    "        if (\n",
    "            20 < distance_thumb_index < 40\n",
    "            and 20 < distance_thumb_middle < 40\n",
    "            and 20 < distance_index_middle < 40\n",
    "        ):\n",
    "            if not circle_detected:\n",
    "                # Trigger Windows + D to minimize\n",
    "                pyautogui.hotkey('win', 'd')\n",
    "                print(\"Circle gesture detected: Minimizing screen\")\n",
    "                circle_detected = True\n",
    "        else:\n",
    "            circle_detected = False  # Reset flag when gesture ends\n",
    "\n",
    "    # Display Webcam Feed\n",
    "    cv2.putText(img, \"Make a circle gesture to minimize the screen\", (10, 50),\n",
    "                cv2.FONT_HERSHEY_SIMPLEX, 0.7, (255, 0, 0), 2)\n",
    "    cv2.imshow(\"Hand Gesture Control\", img)"
   ]
  }
 ],
 "metadata": {
  "kernelspec": {
   "display_name": "Python 3",
   "language": "python",
   "name": "python3"
  },
  "language_info": {
   "codemirror_mode": {
    "name": "ipython",
    "version": 3
   },
   "file_extension": ".py",
   "mimetype": "text/x-python",
   "name": "python",
   "nbconvert_exporter": "python",
   "pygments_lexer": "ipython3",
   "version": "3.11.0"
  }
 },
 "nbformat": 4,
 "nbformat_minor": 2
}
